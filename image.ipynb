{
  "nbformat": 4,
  "nbformat_minor": 0,
  "metadata": {
    "colab": {
      "name": "image.ipynb",
      "provenance": [],
      "authorship_tag": "ABX9TyMMwthoPKILBEFxk4LTRovG",
      "include_colab_link": true
    },
    "kernelspec": {
      "name": "python3",
      "display_name": "Python 3"
    },
    "language_info": {
      "name": "python"
    }
  },
  "cells": [
    {
      "cell_type": "markdown",
      "metadata": {
        "id": "view-in-github",
        "colab_type": "text"
      },
      "source": [
        "<a href=\"https://colab.research.google.com/github/vishvas-chauhan/pickletoweb/blob/main/image.ipynb\" target=\"_parent\"><img src=\"https://colab.research.google.com/assets/colab-badge.svg\" alt=\"Open In Colab\"/></a>"
      ]
    },
    {
      "cell_type": "code",
      "metadata": {
        "id": "WuHfV10iub2W"
      },
      "source": [
        "import tensorflow as tf \n",
        "from tensorflow import keras\n",
        "from keras.models import Sequential\n",
        "from keras.layers import Dense, Flatten, Conv2D, MaxPooling2D, Dropout\n",
        "from tensorflow.keras import layers\n",
        "#from keras.utils import to_categorical \n",
        "import numpy as np\n",
        "import matplotlib.pyplot as plt\n",
        "plt.style.use('fivethirtyeight')"
      ],
      "execution_count": null,
      "outputs": []
    },
    {
      "cell_type": "code",
      "metadata": {
        "colab": {
          "base_uri": "https://localhost:8080/"
        },
        "id": "Mp4MFQ2KwnEe",
        "outputId": "9e484967-8528-4ee2-b373-2d3f0197213b"
      },
      "source": [
        "#load the data\n",
        "from keras.datasets import cifar10\n",
        "(x_train, y_train),(x_test,y_test)= cifar10.load_data()"
      ],
      "execution_count": null,
      "outputs": [
        {
          "output_type": "stream",
          "text": [
            "Downloading data from https://www.cs.toronto.edu/~kriz/cifar-10-python.tar.gz\n",
            "170500096/170498071 [==============================] - 11s 0us/step\n",
            "170508288/170498071 [==============================] - 11s 0us/step\n"
          ],
          "name": "stdout"
        }
      ]
    },
    {
      "cell_type": "code",
      "metadata": {
        "colab": {
          "base_uri": "https://localhost:8080/"
        },
        "id": "axeY0stOxQ37",
        "outputId": "055bd10f-8784-45ba-b748-2b81b30eaa0f"
      },
      "source": [
        "#look at the datatype\n",
        "print(type(x_train))\n",
        "print(type(y_train))"
      ],
      "execution_count": null,
      "outputs": [
        {
          "output_type": "stream",
          "text": [
            "<class 'numpy.ndarray'>\n",
            "<class 'numpy.ndarray'>\n"
          ],
          "name": "stdout"
        }
      ]
    },
    {
      "cell_type": "code",
      "metadata": {
        "colab": {
          "base_uri": "https://localhost:8080/"
        },
        "id": "7tX93yq3xYF7",
        "outputId": "aa19f709-c75a-4a92-9a03-277b30bda2d3"
      },
      "source": [
        "#get the shape of array\n",
        "x_train.shape, y_train.shape"
      ],
      "execution_count": null,
      "outputs": [
        {
          "output_type": "execute_result",
          "data": {
            "text/plain": [
              "((50000, 32, 32, 3), (50000, 1))"
            ]
          },
          "metadata": {
            "tags": []
          },
          "execution_count": 10
        }
      ]
    },
    {
      "cell_type": "code",
      "metadata": {
        "colab": {
          "base_uri": "https://localhost:8080/"
        },
        "id": "NMJM94g56FI7",
        "outputId": "8529005b-97df-4332-ba37-0b1cdb321f29"
      },
      "source": [
        "#take a looking at image as array\n",
        "index= 10\n",
        "x_train[index]"
      ],
      "execution_count": null,
      "outputs": [
        {
          "output_type": "execute_result",
          "data": {
            "text/plain": [
              "array([[[53, 65, 53],\n",
              "        [54, 63, 52],\n",
              "        [56, 60, 50],\n",
              "        ...,\n",
              "        [47, 51, 50],\n",
              "        [41, 45, 44],\n",
              "        [24, 28, 27]],\n",
              "\n",
              "       [[46, 59, 41],\n",
              "        [53, 62, 45],\n",
              "        [54, 59, 44],\n",
              "        ...,\n",
              "        [42, 46, 45],\n",
              "        [39, 43, 42],\n",
              "        [28, 32, 31]],\n",
              "\n",
              "       [[45, 59, 38],\n",
              "        [50, 60, 41],\n",
              "        [46, 52, 34],\n",
              "        ...,\n",
              "        [38, 42, 41],\n",
              "        [36, 40, 39],\n",
              "        [29, 33, 32]],\n",
              "\n",
              "       ...,\n",
              "\n",
              "       [[71, 83, 66],\n",
              "        [74, 83, 66],\n",
              "        [80, 85, 67],\n",
              "        ...,\n",
              "        [51, 54, 33],\n",
              "        [46, 49, 34],\n",
              "        [49, 50, 41]],\n",
              "\n",
              "       [[75, 82, 67],\n",
              "        [79, 85, 69],\n",
              "        [81, 85, 67],\n",
              "        ...,\n",
              "        [61, 65, 41],\n",
              "        [64, 67, 48],\n",
              "        [48, 50, 41]],\n",
              "\n",
              "       [[85, 83, 71],\n",
              "        [85, 84, 71],\n",
              "        [86, 86, 70],\n",
              "        ...,\n",
              "        [61, 65, 39],\n",
              "        [64, 67, 46],\n",
              "        [49, 50, 41]]], dtype=uint8)"
            ]
          },
          "metadata": {
            "tags": []
          },
          "execution_count": 22
        }
      ]
    },
    {
      "cell_type": "code",
      "metadata": {
        "colab": {
          "base_uri": "https://localhost:8080/",
          "height": 284
        },
        "id": "S0i0PGhF6bK4",
        "outputId": "2a5f8193-68e2-4f19-fa3c-bca0cdd03ec8"
      },
      "source": [
        "#showimg as picture\n",
        "img= plt.imshow(x_train[index])"
      ],
      "execution_count": null,
      "outputs": [
        {
          "output_type": "display_data",
          "data": {
            "image/png": "[encoded data removed]",
            "text/plain": [
              "<Figure size 432x288 with 1 Axes>"
            ]
          },
          "metadata": {
            "tags": []
          }
        }
      ]
    },
    {
      "cell_type": "code",
      "metadata": {
        "colab": {
          "base_uri": "https://localhost:8080/"
        },
        "id": "968hkSra6LyC",
        "outputId": "1e7758e7-06c9-43dc-cba6-331a9da187d4"
      },
      "source": [
        "#get label of image\n",
        "print('the img label is: ', y_train[index])"
      ],
      "execution_count": null,
      "outputs": [
        {
          "output_type": "stream",
          "text": [
            "the img label is:  [4]\n"
          ],
          "name": "stdout"
        }
      ]
    },
    {
      "cell_type": "code",
      "metadata": {
        "colab": {
          "base_uri": "https://localhost:8080/"
        },
        "id": "3RAuYmm-6q1Y",
        "outputId": "9783f85d-ec12-4f32-9a85-9d8ede9f5405"
      },
      "source": [
        "#get image classification:\n",
        "classification = ['airplane','automobile','bird','cat','deer',\n",
        "                  'dog','frog','horse','ship','truck']\n",
        "print('img class is:', classification[y_train[index][0]])"
      ],
      "execution_count": null,
      "outputs": [
        {
          "output_type": "stream",
          "text": [
            "img class is: deer\n"
          ],
          "name": "stdout"
        }
      ]
    },
    {
      "cell_type": "code",
      "metadata": {
        "id": "3hWVKXUW7qyf"
      },
      "source": [
        "#convert the labels into a set of 10numbers to input into the neural networl\n",
        "y_train_one_hot = tf.keras.utils.to_categorical(y_train)\n",
        "y_test_one_hot = tf.keras.utils.to_categorical(y_test)"
      ],
      "execution_count": null,
      "outputs": []
    },
    {
      "cell_type": "code",
      "metadata": {
        "id": "HQneYSGi8-PR"
      },
      "source": [
        ""
      ],
      "execution_count": null,
      "outputs": []
    },
    {
      "cell_type": "code",
      "metadata": {
        "colab": {
          "base_uri": "https://localhost:8080/"
        },
        "id": "GBJkm0rq7VrT",
        "outputId": "ebf3bd1b-b836-49ec-840e-dc182a9c0f1f"
      },
      "source": [
        "y_train_one_hot"
      ],
      "execution_count": null,
      "outputs": [
        {
          "output_type": "execute_result",
          "data": {
            "text/plain": [
              "array([[0., 0., 0., ..., 0., 0., 0.],\n",
              "       [0., 0., 0., ..., 0., 0., 1.],\n",
              "       [0., 0., 0., ..., 0., 0., 1.],\n",
              "       ...,\n",
              "       [0., 0., 0., ..., 0., 0., 1.],\n",
              "       [0., 1., 0., ..., 0., 0., 0.],\n",
              "       [0., 1., 0., ..., 0., 0., 0.]], dtype=float32)"
            ]
          },
          "metadata": {
            "tags": []
          },
          "execution_count": 43
        }
      ]
    },
    {
      "cell_type": "code",
      "metadata": {
        "colab": {
          "base_uri": "https://localhost:8080/"
        },
        "id": "kmWK3Ifx9MCU",
        "outputId": "d85b5a5f-ac4d-4c70-dec2-64e657d9d88e"
      },
      "source": [
        "#print the new label of the img above\n",
        "print('one hot label is :', y_train_one_hot[index])"
      ],
      "execution_count": null,
      "outputs": [
        {
          "output_type": "stream",
          "text": [
            "one hot label is : [0. 0. 0. 0. 1. 0. 0. 0. 0. 0.]\n"
          ],
          "name": "stdout"
        }
      ]
    },
    {
      "cell_type": "code",
      "metadata": {
        "id": "rB8WYUeC9cyT"
      },
      "source": [
        "#normalize the pixels to value between 0 to 1\n",
        "x_train = x_train/255\n",
        "x_test = x_test/255"
      ],
      "execution_count": null,
      "outputs": []
    },
    {
      "cell_type": "code",
      "metadata": {
        "colab": {
          "base_uri": "https://localhost:8080/"
        },
        "id": "prmDlqyoxGLv",
        "outputId": "33c70ae2-ad32-4ad8-afa0-e6380cd17392"
      },
      "source": [
        "x_train[index]"
      ],
      "execution_count": null,
      "outputs": [
        {
          "output_type": "execute_result",
          "data": {
            "text/plain": [
              "array([[[0.20784314, 0.25490196, 0.20784314],\n",
              "        [0.21176471, 0.24705882, 0.20392157],\n",
              "        [0.21960784, 0.23529412, 0.19607843],\n",
              "        ...,\n",
              "        [0.18431373, 0.2       , 0.19607843],\n",
              "        [0.16078431, 0.17647059, 0.17254902],\n",
              "        [0.09411765, 0.10980392, 0.10588235]],\n",
              "\n",
              "       [[0.18039216, 0.23137255, 0.16078431],\n",
              "        [0.20784314, 0.24313725, 0.17647059],\n",
              "        [0.21176471, 0.23137255, 0.17254902],\n",
              "        ...,\n",
              "        [0.16470588, 0.18039216, 0.17647059],\n",
              "        [0.15294118, 0.16862745, 0.16470588],\n",
              "        [0.10980392, 0.1254902 , 0.12156863]],\n",
              "\n",
              "       [[0.17647059, 0.23137255, 0.14901961],\n",
              "        [0.19607843, 0.23529412, 0.16078431],\n",
              "        [0.18039216, 0.20392157, 0.13333333],\n",
              "        ...,\n",
              "        [0.14901961, 0.16470588, 0.16078431],\n",
              "        [0.14117647, 0.15686275, 0.15294118],\n",
              "        [0.11372549, 0.12941176, 0.1254902 ]],\n",
              "\n",
              "       ...,\n",
              "\n",
              "       [[0.27843137, 0.3254902 , 0.25882353],\n",
              "        [0.29019608, 0.3254902 , 0.25882353],\n",
              "        [0.31372549, 0.33333333, 0.2627451 ],\n",
              "        ...,\n",
              "        [0.2       , 0.21176471, 0.12941176],\n",
              "        [0.18039216, 0.19215686, 0.13333333],\n",
              "        [0.19215686, 0.19607843, 0.16078431]],\n",
              "\n",
              "       [[0.29411765, 0.32156863, 0.2627451 ],\n",
              "        [0.30980392, 0.33333333, 0.27058824],\n",
              "        [0.31764706, 0.33333333, 0.2627451 ],\n",
              "        ...,\n",
              "        [0.23921569, 0.25490196, 0.16078431],\n",
              "        [0.25098039, 0.2627451 , 0.18823529],\n",
              "        [0.18823529, 0.19607843, 0.16078431]],\n",
              "\n",
              "       [[0.33333333, 0.3254902 , 0.27843137],\n",
              "        [0.33333333, 0.32941176, 0.27843137],\n",
              "        [0.3372549 , 0.3372549 , 0.2745098 ],\n",
              "        ...,\n",
              "        [0.23921569, 0.25490196, 0.15294118],\n",
              "        [0.25098039, 0.2627451 , 0.18039216],\n",
              "        [0.19215686, 0.19607843, 0.16078431]]])"
            ]
          },
          "metadata": {
            "tags": []
          },
          "execution_count": 34
        }
      ]
    },
    {
      "cell_type": "code",
      "metadata": {
        "id": "ze-tyC3J90Vf"
      },
      "source": [
        "#create the model architecture \n",
        "model = Sequential()\n",
        "\n",
        "#add the first layer\n",
        "model.add(Conv2D(32,(5,5), activation='relu', input_shape= (32,32,3)))\n",
        "\n",
        "#first pooling layer\n",
        "model.add(MaxPooling2D(pool_size= (2,2)))\n",
        "\n",
        "#add another convolution layer\n",
        "model.add(Conv2D(32,(5,5), activation='relu'))\n",
        "\n",
        "#second pooling layer\n",
        "model.add(MaxPooling2D(pool_size= (2,2)))\n",
        "\n",
        "#add a flattening layer\n",
        "model.add(Flatten())\n",
        "\n",
        "#add a layer with 500 neurons\n",
        "model.add(Dense(500,activation='relu'))\n",
        "\n",
        "#add a drop out layer with 50%\n",
        "model.add(Dropout(0.5))\n",
        "\n",
        "#add a layer with 250 neurons\n",
        "model.add(Dense(250,activation='relu'))\n",
        "\n",
        "#add a layer with 10 neurons because we have 10 classifications\n",
        "model.add(Dense(10,activation='softmax'))\n",
        "\n"
      ],
      "execution_count": null,
      "outputs": []
    },
    {
      "cell_type": "code",
      "metadata": {
        "id": "uTjqlPgh_jgY"
      },
      "source": [
        "#complie model\n",
        "model.compile(loss = 'categorical_crossentropy',\n",
        "              optimizer = 'adam',\n",
        "              metrics = ['accuracy'])"
      ],
      "execution_count": null,
      "outputs": []
    },
    {
      "cell_type": "code",
      "metadata": {
        "colab": {
          "base_uri": "https://localhost:8080/"
        },
        "id": "RVhx4wZ_BQwn",
        "outputId": "7fdf1b3b-0380-4e0c-ce9b-343147c796d2"
      },
      "source": [
        "x_train.shape, y_train.shape,y_test_one_hot.shape"
      ],
      "execution_count": null,
      "outputs": [
        {
          "output_type": "execute_result",
          "data": {
            "text/plain": [
              "((50000, 32, 32, 3), (50000, 1), (10000, 10))"
            ]
          },
          "metadata": {
            "tags": []
          },
          "execution_count": 54
        }
      ]
    },
    {
      "cell_type": "code",
      "metadata": {
        "colab": {
          "base_uri": "https://localhost:8080/"
        },
        "id": "Rf__gla5AOrU",
        "outputId": "ac7c58c4-dcdf-45a4-9083-f6141819d810"
      },
      "source": [
        "#train the model\n",
        "hist= model.fit(x_train,y_train_one_hot,\n",
        "                batch_size = 256,\n",
        "                epochs = 10,\n",
        "                validation_split =0.2)\n"
      ],
      "execution_count": null,
      "outputs": [
        {
          "output_type": "stream",
          "text": [
            "Epoch 1/10\n",
            "157/157 [==============================] - 56s 324ms/step - loss: 2.2417 - accuracy: 0.1410 - val_loss: 2.0432 - val_accuracy: 0.2442\n",
            "Epoch 2/10\n",
            "157/157 [==============================] - 49s 315ms/step - loss: 1.9881 - accuracy: 0.2654 - val_loss: 1.9001 - val_accuracy: 0.3065\n",
            "Epoch 3/10\n",
            "157/157 [==============================] - 49s 315ms/step - loss: 1.8914 - accuracy: 0.3048 - val_loss: 1.8192 - val_accuracy: 0.3398\n",
            "Epoch 4/10\n",
            "157/157 [==============================] - 50s 316ms/step - loss: 1.8130 - accuracy: 0.3404 - val_loss: 1.7435 - val_accuracy: 0.3646\n",
            "Epoch 5/10\n",
            "157/157 [==============================] - 50s 317ms/step - loss: 1.7482 - accuracy: 0.3663 - val_loss: 1.6717 - val_accuracy: 0.3987\n",
            "Epoch 6/10\n",
            "157/157 [==============================] - 50s 316ms/step - loss: 1.6953 - accuracy: 0.3854 - val_loss: 1.6405 - val_accuracy: 0.4102\n",
            "Epoch 7/10\n",
            "157/157 [==============================] - 50s 316ms/step - loss: 1.6668 - accuracy: 0.3964 - val_loss: 1.5971 - val_accuracy: 0.4319\n",
            "Epoch 8/10\n",
            "157/157 [==============================] - 49s 314ms/step - loss: 1.6250 - accuracy: 0.4143 - val_loss: 1.6172 - val_accuracy: 0.4121\n",
            "Epoch 9/10\n",
            "157/157 [==============================] - 49s 315ms/step - loss: 1.6059 - accuracy: 0.4177 - val_loss: 1.5483 - val_accuracy: 0.4467\n",
            "Epoch 10/10\n",
            "157/157 [==============================] - 49s 315ms/step - loss: 1.5611 - accuracy: 0.4389 - val_loss: 1.5528 - val_accuracy: 0.4425\n"
          ],
          "name": "stdout"
        }
      ]
    },
    {
      "cell_type": "code",
      "metadata": {
        "colab": {
          "base_uri": "https://localhost:8080/"
        },
        "id": "japrLCcJBPep",
        "outputId": "76120396-a71a-40aa-a92d-c351c3cac5ed"
      },
      "source": [
        "#evaluate the model using the test data set \n",
        "model.evaluate(x_test, y_test_one_hot)[1]"
      ],
      "execution_count": null,
      "outputs": [
        {
          "output_type": "stream",
          "text": [
            "313/313 [==============================] - 4s 12ms/step - loss: 1.5281 - accuracy: 0.4549\n"
          ],
          "name": "stdout"
        },
        {
          "output_type": "execute_result",
          "data": {
            "text/plain": [
              "0.45489999651908875"
            ]
          },
          "metadata": {
            "tags": []
          },
          "execution_count": 56
        }
      ]
    },
    {
      "cell_type": "code",
      "metadata": {
        "colab": {
          "base_uri": "https://localhost:8080/",
          "height": 303
        },
        "id": "cjhvDbK9AO5Z",
        "outputId": "3fc19108-1621-4f79-d0c2-1f22150b9efa"
      },
      "source": [
        "#visualize the models accuracy\n",
        "plt.plot(hist.history['accuracy'])\n",
        "plt.plot(hist.history['val_accuracy'])\n",
        "plt.title('Model accuracy')\n",
        "plt.ylabel('Epoch')\n",
        "plt.legend(['Train','val'], loc= 'upper left')\n",
        "plt.show()"
      ],
      "execution_count": null,
      "outputs": [
        {
          "output_type": "display_data",
          "data": {
            "image/png": "[encoded data removed]",
            "text/plain": [
              "<Figure size 432x288 with 1 Axes>"
            ]
          },
          "metadata": {
            "tags": []
          }
        }
      ]
    },
    {
      "cell_type": "code",
      "metadata": {
        "colab": {
          "base_uri": "https://localhost:8080/",
          "height": 303
        },
        "id": "f1Guohr6AO8S",
        "outputId": "cd9cb863-34e9-4d08-cfae-cbbb91a91dc3"
      },
      "source": [
        "#visualize the models loss\n",
        "plt.plot(hist.history['loss'])\n",
        "plt.plot(hist.history['val_loss'])\n",
        "plt.title('Model Loss')\n",
        "plt.ylabel('Epoch')\n",
        "plt.legend(['Train','val'], loc= 'upper left')\n",
        "plt.show()"
      ],
      "execution_count": null,
      "outputs": [
        {
          "output_type": "display_data",
          "data": {
            "image/png": "[encoded data removed]",
            "text/plain": [
              "<Figure size 432x288 with 1 Axes>"
            ]
          },
          "metadata": {
            "tags": []
          }
        }
      ]
    },
    {
      "cell_type": "code",
      "metadata": {
        "id": "m1eFugLaNP9a"
      },
      "source": [
        "from google.colab import files \n",
        "files.upload()"
      ],
      "execution_count": null,
      "outputs": []
    },
    {
      "cell_type": "code",
      "metadata": {
        "id": "vGAr63uiNQIz"
      },
      "source": [
        "new_image = plt.imread('xyz.jpg')\n",
        "img = plt.imshow(new_image)"
      ],
      "execution_count": null,
      "outputs": []
    },
    {
      "cell_type": "code",
      "metadata": {
        "id": "StZhS_2USHoT"
      },
      "source": [
        "#resize the image\n",
        "from skimage.transform import resize \n",
        "resized_image = resize(new_image, (32,32,3))\n",
        "img = plt.imshow(resized_image)\n"
      ],
      "execution_count": null,
      "outputs": []
    },
    {
      "cell_type": "code",
      "metadata": {
        "id": "km9rsP8USxr7"
      },
      "source": [
        "#get the models predictions\n",
        "predictions = model.predict(np.array([resized_image]))\n",
        "#show the predictions\n",
        "predictions\n"
      ],
      "execution_count": null,
      "outputs": []
    },
    {
      "cell_type": "code",
      "metadata": {
        "id": "zyuyjfvdTLjq"
      },
      "source": [
        "#sort the predictionsfrom least to greatest \n",
        "list_index = [0,1,2,3,4,5,6,7,8,9]\n",
        "x= predictions remove # after\n"
      ],
      "execution_count": null,
      "outputs": []
    },
    {
      "cell_type": "code",
      "metadata": {
        "id": "OfT5ve6XSxvg"
      },
      "source": [
        "for i in range(10):\n",
        "  for j in range(10):\n",
        "    if x[0][list_index[i]] > x[0][list_index[j]]:\n",
        "      temp = list_index[i]\n",
        "      list_index[i] = list_index[j]\n",
        "      list_index[j] = temp \n",
        "\n",
        "#show the sorted labels in order\n",
        "print(list_index)"
      ],
      "execution_count": null,
      "outputs": []
    },
    {
      "cell_type": "code",
      "metadata": {
        "colab": {
          "base_uri": "https://localhost:8080/"
        },
        "id": "TrWGVhIHVB89",
        "outputId": "e4249bbb-f805-4233-e3e5-73bc050a90d7"
      },
      "source": [
        "for i in range(5):\n",
        "  print(classification[list_index[i]], ':',round(predictions[0][list_index[i]*100, '%')"
      ],
      "execution_count": null,
      "outputs": [
        {
          "output_type": "stream",
          "text": [
            "airplane\n",
            "automobile\n",
            "bird\n",
            "cat\n",
            "deer\n"
          ],
          "name": "stdout"
        }
      ]
    }
  ]
}